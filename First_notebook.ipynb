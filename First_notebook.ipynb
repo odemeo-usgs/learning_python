{
 "cells": [
  {
   "cell_type": "code",
   "execution_count": 1,
   "id": "9a943ac6",
   "metadata": {},
   "outputs": [],
   "source": [
    "import numpy as np\n",
    "import pandas as pd\n",
    "import matplotlib.pyplot as plt"
   ]
  },
  {
   "cell_type": "code",
   "execution_count": 2,
   "id": "7ba005de",
   "metadata": {},
   "outputs": [
    {
     "data": {
      "text/plain": [
       "'C:\\\\Users\\\\odemeo\\\\Documents\\\\Field_Data_Processing\\\\CACO_MET\\\\HoM_2021-06-29.csv'"
      ]
     },
     "execution_count": 2,
     "metadata": {},
     "output_type": "execute_result"
    }
   ],
   "source": [
    "path_nm='C:\\\\Users\\\\odemeo\\\\Documents\\\\Field_Data_Processing\\\\CACO_MET\\\\'\n",
    "file_name='HoM_2021-06-29.csv'\n",
    "path_nm + file_name"
   ]
  },
  {
   "cell_type": "code",
   "execution_count": 3,
   "id": "7db67c29",
   "metadata": {},
   "outputs": [
    {
     "data": {
      "text/html": [
       "<div>\n",
       "<style scoped>\n",
       "    .dataframe tbody tr th:only-of-type {\n",
       "        vertical-align: middle;\n",
       "    }\n",
       "\n",
       "    .dataframe tbody tr th {\n",
       "        vertical-align: top;\n",
       "    }\n",
       "\n",
       "    .dataframe thead th {\n",
       "        text-align: right;\n",
       "    }\n",
       "</style>\n",
       "<table border=\"1\" class=\"dataframe\">\n",
       "  <thead>\n",
       "    <tr style=\"text-align: right;\">\n",
       "      <th></th>\n",
       "      <th>Date and Time in UTC</th>\n",
       "      <th>SampNum</th>\n",
       "      <th>Battery</th>\n",
       "      <th>BoardTemp</th>\n",
       "      <th>signalPercent</th>\n",
       "      <th>WXTDn</th>\n",
       "      <th>WXTDm</th>\n",
       "      <th>WXTDx</th>\n",
       "      <th>WXTSn</th>\n",
       "      <th>WXTSm</th>\n",
       "      <th>WXTSx</th>\n",
       "      <th>WXTTa</th>\n",
       "      <th>WXTUa</th>\n",
       "    </tr>\n",
       "  </thead>\n",
       "  <tbody>\n",
       "    <tr>\n",
       "      <th>0</th>\n",
       "      <td>2021-06-29 14:56:00</td>\n",
       "      <td>2</td>\n",
       "      <td>3.684</td>\n",
       "      <td>32.25</td>\n",
       "      <td>-9999</td>\n",
       "      <td>170</td>\n",
       "      <td>202</td>\n",
       "      <td>238</td>\n",
       "      <td>0.0</td>\n",
       "      <td>5.1</td>\n",
       "      <td>7.0</td>\n",
       "      <td>26.3</td>\n",
       "      <td>77.4</td>\n",
       "    </tr>\n",
       "    <tr>\n",
       "      <th>1</th>\n",
       "      <td>2021-06-29 14:57:00</td>\n",
       "      <td>3</td>\n",
       "      <td>3.654</td>\n",
       "      <td>32.00</td>\n",
       "      <td>-9999</td>\n",
       "      <td>173</td>\n",
       "      <td>205</td>\n",
       "      <td>232</td>\n",
       "      <td>3.1</td>\n",
       "      <td>4.8</td>\n",
       "      <td>7.1</td>\n",
       "      <td>26.4</td>\n",
       "      <td>77.0</td>\n",
       "    </tr>\n",
       "    <tr>\n",
       "      <th>2</th>\n",
       "      <td>2021-06-29 14:58:00</td>\n",
       "      <td>4</td>\n",
       "      <td>3.654</td>\n",
       "      <td>31.75</td>\n",
       "      <td>-9999</td>\n",
       "      <td>180</td>\n",
       "      <td>210</td>\n",
       "      <td>247</td>\n",
       "      <td>2.8</td>\n",
       "      <td>4.7</td>\n",
       "      <td>7.1</td>\n",
       "      <td>26.4</td>\n",
       "      <td>78.0</td>\n",
       "    </tr>\n",
       "    <tr>\n",
       "      <th>3</th>\n",
       "      <td>2021-06-29 14:59:00</td>\n",
       "      <td>2</td>\n",
       "      <td>4.745</td>\n",
       "      <td>32.00</td>\n",
       "      <td>-9999</td>\n",
       "      <td>190</td>\n",
       "      <td>215</td>\n",
       "      <td>247</td>\n",
       "      <td>2.6</td>\n",
       "      <td>4.5</td>\n",
       "      <td>7.0</td>\n",
       "      <td>26.4</td>\n",
       "      <td>77.7</td>\n",
       "    </tr>\n",
       "    <tr>\n",
       "      <th>4</th>\n",
       "      <td>2021-06-29 15:00:00</td>\n",
       "      <td>3</td>\n",
       "      <td>4.730</td>\n",
       "      <td>32.00</td>\n",
       "      <td>-9999</td>\n",
       "      <td>169</td>\n",
       "      <td>207</td>\n",
       "      <td>243</td>\n",
       "      <td>2.6</td>\n",
       "      <td>4.8</td>\n",
       "      <td>7.0</td>\n",
       "      <td>26.4</td>\n",
       "      <td>76.7</td>\n",
       "    </tr>\n",
       "    <tr>\n",
       "      <th>...</th>\n",
       "      <td>...</td>\n",
       "      <td>...</td>\n",
       "      <td>...</td>\n",
       "      <td>...</td>\n",
       "      <td>...</td>\n",
       "      <td>...</td>\n",
       "      <td>...</td>\n",
       "      <td>...</td>\n",
       "      <td>...</td>\n",
       "      <td>...</td>\n",
       "      <td>...</td>\n",
       "      <td>...</td>\n",
       "      <td>...</td>\n",
       "    </tr>\n",
       "    <tr>\n",
       "      <th>122589</th>\n",
       "      <td>2021-09-22 18:06:00</td>\n",
       "      <td>-8486</td>\n",
       "      <td>3.639</td>\n",
       "      <td>31.25</td>\n",
       "      <td>-9999</td>\n",
       "      <td>145</td>\n",
       "      <td>182</td>\n",
       "      <td>229</td>\n",
       "      <td>2.4</td>\n",
       "      <td>5.4</td>\n",
       "      <td>9.1</td>\n",
       "      <td>24.8</td>\n",
       "      <td>74.5</td>\n",
       "    </tr>\n",
       "    <tr>\n",
       "      <th>122590</th>\n",
       "      <td>2021-09-22 18:07:00</td>\n",
       "      <td>-8485</td>\n",
       "      <td>3.639</td>\n",
       "      <td>31.25</td>\n",
       "      <td>-9999</td>\n",
       "      <td>135</td>\n",
       "      <td>189</td>\n",
       "      <td>243</td>\n",
       "      <td>2.4</td>\n",
       "      <td>4.9</td>\n",
       "      <td>8.3</td>\n",
       "      <td>24.9</td>\n",
       "      <td>74.2</td>\n",
       "    </tr>\n",
       "    <tr>\n",
       "      <th>122591</th>\n",
       "      <td>2021-09-22 18:08:00</td>\n",
       "      <td>-8484</td>\n",
       "      <td>3.639</td>\n",
       "      <td>31.50</td>\n",
       "      <td>-9999</td>\n",
       "      <td>135</td>\n",
       "      <td>194</td>\n",
       "      <td>246</td>\n",
       "      <td>2.5</td>\n",
       "      <td>4.9</td>\n",
       "      <td>8.3</td>\n",
       "      <td>25.1</td>\n",
       "      <td>73.2</td>\n",
       "    </tr>\n",
       "    <tr>\n",
       "      <th>122592</th>\n",
       "      <td>2021-09-22 18:09:00</td>\n",
       "      <td>-8483</td>\n",
       "      <td>3.639</td>\n",
       "      <td>31.50</td>\n",
       "      <td>-9999</td>\n",
       "      <td>153</td>\n",
       "      <td>201</td>\n",
       "      <td>246</td>\n",
       "      <td>2.5</td>\n",
       "      <td>5.3</td>\n",
       "      <td>8.5</td>\n",
       "      <td>25.2</td>\n",
       "      <td>71.0</td>\n",
       "    </tr>\n",
       "    <tr>\n",
       "      <th>122593</th>\n",
       "      <td>2021-09-22 18:10:00</td>\n",
       "      <td>-8482</td>\n",
       "      <td>3.654</td>\n",
       "      <td>31.25</td>\n",
       "      <td>-9999</td>\n",
       "      <td>171</td>\n",
       "      <td>203</td>\n",
       "      <td>232</td>\n",
       "      <td>3.5</td>\n",
       "      <td>6.3</td>\n",
       "      <td>9.4</td>\n",
       "      <td>25.0</td>\n",
       "      <td>71.4</td>\n",
       "    </tr>\n",
       "  </tbody>\n",
       "</table>\n",
       "<p>122594 rows × 13 columns</p>\n",
       "</div>"
      ],
      "text/plain": [
       "       Date and Time in UTC  SampNum  Battery  BoardTemp  signalPercent  \\\n",
       "0       2021-06-29 14:56:00        2    3.684      32.25          -9999   \n",
       "1       2021-06-29 14:57:00        3    3.654      32.00          -9999   \n",
       "2       2021-06-29 14:58:00        4    3.654      31.75          -9999   \n",
       "3       2021-06-29 14:59:00        2    4.745      32.00          -9999   \n",
       "4       2021-06-29 15:00:00        3    4.730      32.00          -9999   \n",
       "...                     ...      ...      ...        ...            ...   \n",
       "122589  2021-09-22 18:06:00    -8486    3.639      31.25          -9999   \n",
       "122590  2021-09-22 18:07:00    -8485    3.639      31.25          -9999   \n",
       "122591  2021-09-22 18:08:00    -8484    3.639      31.50          -9999   \n",
       "122592  2021-09-22 18:09:00    -8483    3.639      31.50          -9999   \n",
       "122593  2021-09-22 18:10:00    -8482    3.654      31.25          -9999   \n",
       "\n",
       "        WXTDn  WXTDm  WXTDx  WXTSn  WXTSm  WXTSx  WXTTa  WXTUa  \n",
       "0         170    202    238    0.0    5.1    7.0   26.3   77.4  \n",
       "1         173    205    232    3.1    4.8    7.1   26.4   77.0  \n",
       "2         180    210    247    2.8    4.7    7.1   26.4   78.0  \n",
       "3         190    215    247    2.6    4.5    7.0   26.4   77.7  \n",
       "4         169    207    243    2.6    4.8    7.0   26.4   76.7  \n",
       "...       ...    ...    ...    ...    ...    ...    ...    ...  \n",
       "122589    145    182    229    2.4    5.4    9.1   24.8   74.5  \n",
       "122590    135    189    243    2.4    4.9    8.3   24.9   74.2  \n",
       "122591    135    194    246    2.5    4.9    8.3   25.1   73.2  \n",
       "122592    153    201    246    2.5    5.3    8.5   25.2   71.0  \n",
       "122593    171    203    232    3.5    6.3    9.4   25.0   71.4  \n",
       "\n",
       "[122594 rows x 13 columns]"
      ]
     },
     "execution_count": 3,
     "metadata": {},
     "output_type": "execute_result"
    }
   ],
   "source": [
    "df=pd.read_csv(path_nm+file_name,skiprows=7)\n",
    "df"
   ]
  },
  {
   "cell_type": "code",
   "execution_count": 4,
   "id": "1ddd9e96",
   "metadata": {},
   "outputs": [
    {
     "data": {
      "text/html": [
       "<div>\n",
       "<style scoped>\n",
       "    .dataframe tbody tr th:only-of-type {\n",
       "        vertical-align: middle;\n",
       "    }\n",
       "\n",
       "    .dataframe tbody tr th {\n",
       "        vertical-align: top;\n",
       "    }\n",
       "\n",
       "    .dataframe thead th {\n",
       "        text-align: right;\n",
       "    }\n",
       "</style>\n",
       "<table border=\"1\" class=\"dataframe\">\n",
       "  <thead>\n",
       "    <tr style=\"text-align: right;\">\n",
       "      <th></th>\n",
       "      <th>SampNum</th>\n",
       "      <th>Battery</th>\n",
       "      <th>BoardTemp</th>\n",
       "      <th>signalPercent</th>\n",
       "      <th>WXTDn</th>\n",
       "      <th>WXTDm</th>\n",
       "      <th>WXTDx</th>\n",
       "      <th>WXTSn</th>\n",
       "      <th>WXTSm</th>\n",
       "      <th>WXTSx</th>\n",
       "      <th>WXTTa</th>\n",
       "      <th>WXTUa</th>\n",
       "    </tr>\n",
       "  </thead>\n",
       "  <tbody>\n",
       "    <tr>\n",
       "      <th>count</th>\n",
       "      <td>122594.000000</td>\n",
       "      <td>122594.000000</td>\n",
       "      <td>122594.000000</td>\n",
       "      <td>122594.0</td>\n",
       "      <td>122594.000000</td>\n",
       "      <td>122594.000000</td>\n",
       "      <td>122594.000000</td>\n",
       "      <td>122594.000000</td>\n",
       "      <td>122594.000000</td>\n",
       "      <td>122594.000000</td>\n",
       "      <td>122594.000000</td>\n",
       "      <td>122594.000000</td>\n",
       "    </tr>\n",
       "    <tr>\n",
       "      <th>mean</th>\n",
       "      <td>292.856078</td>\n",
       "      <td>3.623003</td>\n",
       "      <td>23.456788</td>\n",
       "      <td>-9999.0</td>\n",
       "      <td>130.246709</td>\n",
       "      <td>183.433667</td>\n",
       "      <td>219.829209</td>\n",
       "      <td>2.371266</td>\n",
       "      <td>4.099445</td>\n",
       "      <td>5.886937</td>\n",
       "      <td>20.863037</td>\n",
       "      <td>86.168375</td>\n",
       "    </tr>\n",
       "    <tr>\n",
       "      <th>std</th>\n",
       "      <td>19517.272594</td>\n",
       "      <td>0.025389</td>\n",
       "      <td>5.225634</td>\n",
       "      <td>0.0</td>\n",
       "      <td>78.654022</td>\n",
       "      <td>91.405097</td>\n",
       "      <td>88.711210</td>\n",
       "      <td>1.723976</td>\n",
       "      <td>2.263441</td>\n",
       "      <td>3.041321</td>\n",
       "      <td>2.998218</td>\n",
       "      <td>11.434929</td>\n",
       "    </tr>\n",
       "    <tr>\n",
       "      <th>min</th>\n",
       "      <td>-32768.000000</td>\n",
       "      <td>3.563000</td>\n",
       "      <td>11.500000</td>\n",
       "      <td>-9999.0</td>\n",
       "      <td>0.000000</td>\n",
       "      <td>0.000000</td>\n",
       "      <td>0.000000</td>\n",
       "      <td>0.000000</td>\n",
       "      <td>0.000000</td>\n",
       "      <td>0.000000</td>\n",
       "      <td>12.300000</td>\n",
       "      <td>40.300000</td>\n",
       "    </tr>\n",
       "    <tr>\n",
       "      <th>25%</th>\n",
       "      <td>-17444.000000</td>\n",
       "      <td>3.608000</td>\n",
       "      <td>19.500000</td>\n",
       "      <td>-9999.0</td>\n",
       "      <td>46.000000</td>\n",
       "      <td>106.000000</td>\n",
       "      <td>178.000000</td>\n",
       "      <td>1.200000</td>\n",
       "      <td>2.500000</td>\n",
       "      <td>3.600000</td>\n",
       "      <td>18.800000</td>\n",
       "      <td>78.100000</td>\n",
       "    </tr>\n",
       "    <tr>\n",
       "      <th>50%</th>\n",
       "      <td>2119.000000</td>\n",
       "      <td>3.624000</td>\n",
       "      <td>22.500000</td>\n",
       "      <td>-9999.0</td>\n",
       "      <td>162.000000</td>\n",
       "      <td>207.000000</td>\n",
       "      <td>241.000000</td>\n",
       "      <td>2.100000</td>\n",
       "      <td>3.800000</td>\n",
       "      <td>5.600000</td>\n",
       "      <td>20.700000</td>\n",
       "      <td>88.300000</td>\n",
       "    </tr>\n",
       "    <tr>\n",
       "      <th>75%</th>\n",
       "      <td>17443.000000</td>\n",
       "      <td>3.639000</td>\n",
       "      <td>27.250000</td>\n",
       "      <td>-9999.0</td>\n",
       "      <td>189.000000</td>\n",
       "      <td>231.000000</td>\n",
       "      <td>270.000000</td>\n",
       "      <td>3.100000</td>\n",
       "      <td>5.200000</td>\n",
       "      <td>7.600000</td>\n",
       "      <td>22.700000</td>\n",
       "      <td>96.000000</td>\n",
       "    </tr>\n",
       "    <tr>\n",
       "      <th>max</th>\n",
       "      <td>32767.000000</td>\n",
       "      <td>4.745000</td>\n",
       "      <td>39.750000</td>\n",
       "      <td>-9999.0</td>\n",
       "      <td>351.000000</td>\n",
       "      <td>358.000000</td>\n",
       "      <td>358.000000</td>\n",
       "      <td>16.200000</td>\n",
       "      <td>21.600000</td>\n",
       "      <td>27.900000</td>\n",
       "      <td>31.400000</td>\n",
       "      <td>100.000000</td>\n",
       "    </tr>\n",
       "  </tbody>\n",
       "</table>\n",
       "</div>"
      ],
      "text/plain": [
       "             SampNum        Battery      BoardTemp  signalPercent  \\\n",
       "count  122594.000000  122594.000000  122594.000000       122594.0   \n",
       "mean      292.856078       3.623003      23.456788        -9999.0   \n",
       "std     19517.272594       0.025389       5.225634            0.0   \n",
       "min    -32768.000000       3.563000      11.500000        -9999.0   \n",
       "25%    -17444.000000       3.608000      19.500000        -9999.0   \n",
       "50%      2119.000000       3.624000      22.500000        -9999.0   \n",
       "75%     17443.000000       3.639000      27.250000        -9999.0   \n",
       "max     32767.000000       4.745000      39.750000        -9999.0   \n",
       "\n",
       "               WXTDn          WXTDm          WXTDx          WXTSn  \\\n",
       "count  122594.000000  122594.000000  122594.000000  122594.000000   \n",
       "mean      130.246709     183.433667     219.829209       2.371266   \n",
       "std        78.654022      91.405097      88.711210       1.723976   \n",
       "min         0.000000       0.000000       0.000000       0.000000   \n",
       "25%        46.000000     106.000000     178.000000       1.200000   \n",
       "50%       162.000000     207.000000     241.000000       2.100000   \n",
       "75%       189.000000     231.000000     270.000000       3.100000   \n",
       "max       351.000000     358.000000     358.000000      16.200000   \n",
       "\n",
       "               WXTSm          WXTSx          WXTTa          WXTUa  \n",
       "count  122594.000000  122594.000000  122594.000000  122594.000000  \n",
       "mean        4.099445       5.886937      20.863037      86.168375  \n",
       "std         2.263441       3.041321       2.998218      11.434929  \n",
       "min         0.000000       0.000000      12.300000      40.300000  \n",
       "25%         2.500000       3.600000      18.800000      78.100000  \n",
       "50%         3.800000       5.600000      20.700000      88.300000  \n",
       "75%         5.200000       7.600000      22.700000      96.000000  \n",
       "max        21.600000      27.900000      31.400000     100.000000  "
      ]
     },
     "execution_count": 4,
     "metadata": {},
     "output_type": "execute_result"
    }
   ],
   "source": [
    "df.describe()"
   ]
  },
  {
   "cell_type": "code",
   "execution_count": 5,
   "id": "841a23bb",
   "metadata": {},
   "outputs": [
    {
     "data": {
      "text/plain": [
       "[<matplotlib.lines.Line2D at 0x1b77898dac0>]"
      ]
     },
     "execution_count": 5,
     "metadata": {},
     "output_type": "execute_result"
    },
    {
     "data": {
      "image/png": "[encoded data removed]",
      "text/plain": [
       "<Figure size 432x288 with 1 Axes>"
      ]
     },
     "metadata": {
      "needs_background": "light"
     },
     "output_type": "display_data"
    }
   ],
   "source": [
    "plt.plot(df[\"WXTSn\"].values)\n"
   ]
  },
  {
   "cell_type": "code",
   "execution_count": 6,
   "id": "6de38f0f",
   "metadata": {},
   "outputs": [
    {
     "data": {
      "text/plain": [
       "False"
      ]
     },
     "execution_count": 6,
     "metadata": {},
     "output_type": "execute_result"
    }
   ],
   "source": [
    "np.any(np.isnan(df[\"WXTSn\"].values))"
   ]
  },
  {
   "cell_type": "code",
   "execution_count": 7,
   "id": "5dc191f6",
   "metadata": {},
   "outputs": [
    {
     "data": {
      "text/plain": [
       "array([0. , 3.1, 2.8, ..., 2.5, 2.5, 3.5])"
      ]
     },
     "execution_count": 7,
     "metadata": {},
     "output_type": "execute_result"
    }
   ],
   "source": [
    "wind_sp=df[\"WXTSn\"].values\n",
    "wind_sp"
   ]
  },
  {
   "cell_type": "code",
   "execution_count": 8,
   "id": "e150cc58",
   "metadata": {},
   "outputs": [
    {
     "name": "stdout",
     "output_type": "stream",
     "text": [
      "122594\n"
     ]
    }
   ],
   "source": [
    "def windspeed_mean(ws,cf=1.):\n",
    "    mn=np.sum(cf*ws)/len(ws)\n",
    "    n=len(ws)\n",
    "    return mn,n\n",
    "print(windspeed_mean(wind_sp,2)[1])"
   ]
  },
  {
   "cell_type": "code",
   "execution_count": 9,
   "id": "53dff2bd",
   "metadata": {},
   "outputs": [
    {
     "name": "stdout",
     "output_type": "stream",
     "text": [
      "4.742532260958938\n",
      "122594\n"
     ]
    }
   ],
   "source": [
    "x,y=windspeed_mean(wind_sp,2)\n",
    "print(x)\n",
    "print(y)"
   ]
  },
  {
   "cell_type": "code",
   "execution_count": 10,
   "id": "9178249b",
   "metadata": {},
   "outputs": [
    {
     "name": "stdout",
     "output_type": "stream",
     "text": [
      "4.742532260958938\n"
     ]
    }
   ],
   "source": [
    "x,_=windspeed_mean(wind_sp,2)\n",
    "print(x)"
   ]
  },
  {
   "cell_type": "code",
   "execution_count": 11,
   "id": "71e6bb4d",
   "metadata": {},
   "outputs": [
    {
     "name": "stdout",
     "output_type": "stream",
     "text": [
      "122594\n"
     ]
    }
   ],
   "source": [
    "_,y=windspeed_mean(wind_sp,2)\n",
    "print(y)"
   ]
  }
 ],
 "metadata": {
  "kernelspec": {
   "display_name": "Python 3",
   "language": "python",
   "name": "python3"
  },
  "language_info": {
   "codemirror_mode": {
    "name": "ipython",
    "version": 3
   },
   "file_extension": ".py",
   "mimetype": "text/x-python",
   "name": "python",
   "nbconvert_exporter": "python",
   "pygments_lexer": "ipython3",
   "version": "3.8.8"
  }
 },
 "nbformat": 4,
 "nbformat_minor": 5
}
